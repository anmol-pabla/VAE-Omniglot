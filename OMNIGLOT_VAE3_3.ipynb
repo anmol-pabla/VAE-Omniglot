{
  "nbformat": 4,
  "nbformat_minor": 0,
  "metadata": {
    "colab": {
      "name": "OMNIGLOT VAE3_3.ipynb",
      "provenance": [],
      "collapsed_sections": [],
      "authorship_tag": "ABX9TyOpVhUG1FRAsy+5DumxxSZz",
      "include_colab_link": true
    },
    "kernelspec": {
      "name": "python3",
      "display_name": "Python 3"
    },
    "accelerator": "GPU"
  },
  "cells": [
    {
      "cell_type": "markdown",
      "metadata": {
        "id": "view-in-github",
        "colab_type": "text"
      },
      "source": [
        "<a href=\"https://colab.research.google.com/github/anmol-pabla/VAE-Omniglot/blob/master/OMNIGLOT_VAE3_3.ipynb\" target=\"_parent\"><img src=\"https://colab.research.google.com/assets/colab-badge.svg\" alt=\"Open In Colab\"/></a>"
      ]
    },
    {
      "cell_type": "code",
      "metadata": {
        "id": "ggmF0CLDsfwk",
        "colab_type": "code",
        "outputId": "217ec940-1415-48b4-8624-2a9f41a421d0",
        "colab": {
          "base_uri": "https://localhost:8080/",
          "height": 35
        }
      },
      "source": [
        "import tensorflow.compat.v2 as tf\n",
        "import tensorflow_datasets as tfds\n",
        "from keras import backend as K\n",
        "import matplotlib.pyplot as plt\n"
      ],
      "execution_count": 1,
      "outputs": [
        {
          "output_type": "stream",
          "text": [
            "Using TensorFlow backend.\n"
          ],
          "name": "stderr"
        }
      ]
    },
    {
      "cell_type": "code",
      "metadata": {
        "id": "6jcA--PZlTlb",
        "colab_type": "code",
        "colab": {}
      },
      "source": [
        "\n",
        "tfds.disable_progress_bar()\n",
        "tf.enable_v2_behavior()\n",
        "ds_train = tfds.load(\n",
        "    'omniglot',\n",
        "    split='train',\n",
        "    shuffle_files=True,\n",
        "    with_info=False,\n",
        ")\n",
        "def normalize_img(image, label):\n",
        "  image = tf.image.resize(image, [28,28]) \n",
        "  return tf.cast(image, tf.float32) / 255., label\n",
        "# ds_train = ds_train.map(\n",
        "#     normalize_img, num_parallel_calls=tf.data.experimental.AUTOTUNE)\n",
        "ds_train = ds_train.cache()\n",
        "ds_train = ds_train.batch(19280)\n",
        "ds_train = ds_train.prefetch(tf.data.experimental.AUTOTUNE)\n"
      ],
      "execution_count": 0,
      "outputs": []
    },
    {
      "cell_type": "code",
      "metadata": {
        "id": "uIk67Qf9smQQ",
        "colab_type": "code",
        "colab": {
          "base_uri": "https://localhost:8080/",
          "height": 35
        },
        "outputId": "f7af44da-8fb3-4f98-fffb-57201797d7af"
      },
      "source": [
        "for example in ds_train.take(19280):\n",
        "  image, label = example[\"image\"], example[\"label\"]\n",
        "image,label = normalize_img(image,label)\n",
        "image.shape\n",
        "# (x_train, y_train), (x_test, y_test) = mnist.load_data()\n",
        "\n",
        "# image_size = x_train.shape[1]\n",
        "# original_dim = image_size * image_size\n",
        "# x_train = x_train/ 255.0\n",
        "# x_test = x_test / 255.0\n",
        "# latent_size = 2"
      ],
      "execution_count": 63,
      "outputs": [
        {
          "output_type": "execute_result",
          "data": {
            "text/plain": [
              "TensorShape([19280, 28, 28, 3])"
            ]
          },
          "metadata": {
            "tags": []
          },
          "execution_count": 63
        }
      ]
    },
    {
      "cell_type": "code",
      "metadata": {
        "id": "3PaG7dkGsoSp",
        "colab_type": "code",
        "colab": {}
      },
      "source": [
        "    original_dim = 784\n",
        "    latent_size = 2\n",
        "    def sampling(args):\n",
        "        z_mean, z_log_sigma = args\n",
        "        epsilon = K.random_normal(shape=K.shape(z_mean),\n",
        "                                  mean=0., stddev=1)\n",
        "        return z_mean + K.exp(z_log_sigma) * epsilon"
      ],
      "execution_count": 0,
      "outputs": []
    },
    {
      "cell_type": "code",
      "metadata": {
        "id": "uH7r4t74sqa5",
        "colab_type": "code",
        "outputId": "63827e96-11c5-4850-e946-097090b16ab8",
        "colab": {
          "base_uri": "https://localhost:8080/",
          "height": 884
        }
      },
      "source": [
        "    inputs = tf.keras.Input((28,28,3))\n",
        "    x = tf.keras.layers.Conv2D(1, kernel_size=3, padding='same')(inputs)\n",
        "    x = tf.keras.layers.Reshape((28,28,1))(x)\n",
        "    x = tf.keras.layers.ZeroPadding2D(padding=2)(x)\n",
        "    for n in [32,64,128,128,128]:\n",
        "        x = tf.keras.layers.Conv2D(n, kernel_size=3, padding='same')(x)\n",
        "        x = tf.keras.layers.Activation('relu')(x)\n",
        "        x = tf.keras.layers.MaxPooling2D(pool_size=2)(x)\n",
        "    x = tf.keras.layers.Flatten()(x)\n",
        "    z_mean = tf.keras.layers.Dense(latent_size)(x)\n",
        "    z_log_sigma = tf.keras.layers.Dense(latent_size)(x)\n",
        "    # epsilon = tf.keras.backend.random_normal(shape=tf.keras.backend.shape(z_mean), mean=0., stddev=1)\n",
        "    # z = z_mean + tf.keras.backend.exp(z_log_sigma) * epsilon\n",
        "    z = tf.keras.layers.Lambda(sampling, output_shape=(latent_size,))([z_mean, z_log_sigma])\n",
        "    \n",
        "    encoder = tf.keras.Model(inputs, z_mean,name='encoder')\n",
        "    encoder.summary()\n"
      ],
      "execution_count": 64,
      "outputs": [
        {
          "output_type": "stream",
          "text": [
            "Model: \"encoder\"\n",
            "_________________________________________________________________\n",
            "Layer (type)                 Output Shape              Param #   \n",
            "=================================================================\n",
            "input_7 (InputLayer)         [(None, 28, 28, 3)]       0         \n",
            "_________________________________________________________________\n",
            "conv2d_28 (Conv2D)           (None, 28, 28, 1)         28        \n",
            "_________________________________________________________________\n",
            "reshape_10 (Reshape)         (None, 28, 28, 1)         0         \n",
            "_________________________________________________________________\n",
            "zero_padding2d_2 (ZeroPaddin (None, 32, 32, 1)         0         \n",
            "_________________________________________________________________\n",
            "conv2d_29 (Conv2D)           (None, 32, 32, 32)        320       \n",
            "_________________________________________________________________\n",
            "activation_26 (Activation)   (None, 32, 32, 32)        0         \n",
            "_________________________________________________________________\n",
            "max_pooling2d_10 (MaxPooling (None, 16, 16, 32)        0         \n",
            "_________________________________________________________________\n",
            "conv2d_30 (Conv2D)           (None, 16, 16, 64)        18496     \n",
            "_________________________________________________________________\n",
            "activation_27 (Activation)   (None, 16, 16, 64)        0         \n",
            "_________________________________________________________________\n",
            "max_pooling2d_11 (MaxPooling (None, 8, 8, 64)          0         \n",
            "_________________________________________________________________\n",
            "conv2d_31 (Conv2D)           (None, 8, 8, 128)         73856     \n",
            "_________________________________________________________________\n",
            "activation_28 (Activation)   (None, 8, 8, 128)         0         \n",
            "_________________________________________________________________\n",
            "max_pooling2d_12 (MaxPooling (None, 4, 4, 128)         0         \n",
            "_________________________________________________________________\n",
            "conv2d_32 (Conv2D)           (None, 4, 4, 128)         147584    \n",
            "_________________________________________________________________\n",
            "activation_29 (Activation)   (None, 4, 4, 128)         0         \n",
            "_________________________________________________________________\n",
            "max_pooling2d_13 (MaxPooling (None, 2, 2, 128)         0         \n",
            "_________________________________________________________________\n",
            "conv2d_33 (Conv2D)           (None, 2, 2, 128)         147584    \n",
            "_________________________________________________________________\n",
            "activation_30 (Activation)   (None, 2, 2, 128)         0         \n",
            "_________________________________________________________________\n",
            "max_pooling2d_14 (MaxPooling (None, 1, 1, 128)         0         \n",
            "_________________________________________________________________\n",
            "flatten_2 (Flatten)          (None, 128)               0         \n",
            "_________________________________________________________________\n",
            "dense_8 (Dense)              (None, 2)                 258       \n",
            "=================================================================\n",
            "Total params: 388,126\n",
            "Trainable params: 388,126\n",
            "Non-trainable params: 0\n",
            "_________________________________________________________________\n"
          ],
          "name": "stdout"
        }
      ]
    },
    {
      "cell_type": "code",
      "metadata": {
        "id": "NONiLdrdssx_",
        "colab_type": "code",
        "outputId": "163e5ae4-c7b6-4148-dfd5-b99ea3f55fe2",
        "colab": {
          "base_uri": "https://localhost:8080/",
          "height": 815
        }
      },
      "source": [
        "    decoder = tf.keras.Sequential(name='decoder')\n",
        "    decoder.add(tf.keras.layers.InputLayer((latent_size,)))\n",
        "    decoder.add(tf.keras.layers.Dense(128))\n",
        "    decoder.add(tf.keras.layers.Reshape((1,1,128)))\n",
        "    \n",
        "    decoder.add(tf.keras.layers.UpSampling2D(size=2))\n",
        "    decoder.add(tf.keras.layers.Conv2D(128, kernel_size=3, padding='same'))\n",
        "    decoder.add(tf.keras.layers.Activation('relu'))\n",
        "      \n",
        "    decoder.add(tf.keras.layers.UpSampling2D(size=2))\n",
        "    decoder.add(tf.keras.layers.Conv2D(128, kernel_size=3, padding='same'))\n",
        "    decoder.add(tf.keras.layers.Activation('relu'))\n",
        "    \n",
        "    decoder.add(tf.keras.layers.UpSampling2D(size=2))\n",
        "    decoder.add(tf.keras.layers.Conv2D(64, kernel_size=3, padding='same'))\n",
        "    decoder.add(tf.keras.layers.Activation('relu'))\n",
        "        \n",
        "    decoder.add(tf.keras.layers.UpSampling2D(size=2))\n",
        "    decoder.add(tf.keras.layers.Conv2D(32, kernel_size=3, padding='same'))\n",
        "    decoder.add(tf.keras.layers.Activation('relu'))\n",
        "    \n",
        "    decoder.add(tf.keras.layers.UpSampling2D(size=2))\n",
        "    decoder.add(tf.keras.layers.Conv2D(3, kernel_size=3, padding='same'))\n",
        "    decoder.add(tf.keras.layers.Activation('sigmoid'))\n",
        "    #decoder.add(tf.keras.layers.Flatten())\n",
        "    #decoder.add(tf.keras.layers.Dense(1))\n",
        "\n",
        "    decoder.add(tf.keras.layers.Cropping2D(cropping=2))\n",
        "    decoder.add(tf.keras.layers.Reshape((28,28,3)))\n",
        "    decoder.summary()"
      ],
      "execution_count": 65,
      "outputs": [
        {
          "output_type": "stream",
          "text": [
            "Model: \"decoder\"\n",
            "_________________________________________________________________\n",
            "Layer (type)                 Output Shape              Param #   \n",
            "=================================================================\n",
            "dense_10 (Dense)             (None, 128)               384       \n",
            "_________________________________________________________________\n",
            "reshape_11 (Reshape)         (None, 1, 1, 128)         0         \n",
            "_________________________________________________________________\n",
            "up_sampling2d_16 (UpSampling (None, 2, 2, 128)         0         \n",
            "_________________________________________________________________\n",
            "conv2d_34 (Conv2D)           (None, 2, 2, 128)         147584    \n",
            "_________________________________________________________________\n",
            "activation_31 (Activation)   (None, 2, 2, 128)         0         \n",
            "_________________________________________________________________\n",
            "up_sampling2d_17 (UpSampling (None, 4, 4, 128)         0         \n",
            "_________________________________________________________________\n",
            "conv2d_35 (Conv2D)           (None, 4, 4, 128)         147584    \n",
            "_________________________________________________________________\n",
            "activation_32 (Activation)   (None, 4, 4, 128)         0         \n",
            "_________________________________________________________________\n",
            "up_sampling2d_18 (UpSampling (None, 8, 8, 128)         0         \n",
            "_________________________________________________________________\n",
            "conv2d_36 (Conv2D)           (None, 8, 8, 64)          73792     \n",
            "_________________________________________________________________\n",
            "activation_33 (Activation)   (None, 8, 8, 64)          0         \n",
            "_________________________________________________________________\n",
            "up_sampling2d_19 (UpSampling (None, 16, 16, 64)        0         \n",
            "_________________________________________________________________\n",
            "conv2d_37 (Conv2D)           (None, 16, 16, 32)        18464     \n",
            "_________________________________________________________________\n",
            "activation_34 (Activation)   (None, 16, 16, 32)        0         \n",
            "_________________________________________________________________\n",
            "up_sampling2d_20 (UpSampling (None, 32, 32, 32)        0         \n",
            "_________________________________________________________________\n",
            "conv2d_38 (Conv2D)           (None, 32, 32, 3)         867       \n",
            "_________________________________________________________________\n",
            "activation_35 (Activation)   (None, 32, 32, 3)         0         \n",
            "_________________________________________________________________\n",
            "cropping2d_1 (Cropping2D)    (None, 28, 28, 3)         0         \n",
            "_________________________________________________________________\n",
            "reshape_12 (Reshape)         (None, 28, 28, 3)         0         \n",
            "=================================================================\n",
            "Total params: 388,675\n",
            "Trainable params: 388,675\n",
            "Non-trainable params: 0\n",
            "_________________________________________________________________\n"
          ],
          "name": "stdout"
        }
      ]
    },
    {
      "cell_type": "code",
      "metadata": {
        "id": "6em3AkDhsy_L",
        "colab_type": "code",
        "outputId": "b9cd13fe-ca14-418b-dc6a-a18eca5003f9",
        "colab": {
          "base_uri": "https://localhost:8080/",
          "height": 1000
        }
      },
      "source": [
        "    outputs = decoder(z)\n",
        "    vae = tf.keras.Model(inputs, outputs,name='vae')\n",
        "    vae.summary()"
      ],
      "execution_count": 66,
      "outputs": [
        {
          "output_type": "stream",
          "text": [
            "Model: \"vae\"\n",
            "__________________________________________________________________________________________________\n",
            "Layer (type)                    Output Shape         Param #     Connected to                     \n",
            "==================================================================================================\n",
            "input_7 (InputLayer)            [(None, 28, 28, 3)]  0                                            \n",
            "__________________________________________________________________________________________________\n",
            "conv2d_28 (Conv2D)              (None, 28, 28, 1)    28          input_7[0][0]                    \n",
            "__________________________________________________________________________________________________\n",
            "reshape_10 (Reshape)            (None, 28, 28, 1)    0           conv2d_28[0][0]                  \n",
            "__________________________________________________________________________________________________\n",
            "zero_padding2d_2 (ZeroPadding2D (None, 32, 32, 1)    0           reshape_10[0][0]                 \n",
            "__________________________________________________________________________________________________\n",
            "conv2d_29 (Conv2D)              (None, 32, 32, 32)   320         zero_padding2d_2[0][0]           \n",
            "__________________________________________________________________________________________________\n",
            "activation_26 (Activation)      (None, 32, 32, 32)   0           conv2d_29[0][0]                  \n",
            "__________________________________________________________________________________________________\n",
            "max_pooling2d_10 (MaxPooling2D) (None, 16, 16, 32)   0           activation_26[0][0]              \n",
            "__________________________________________________________________________________________________\n",
            "conv2d_30 (Conv2D)              (None, 16, 16, 64)   18496       max_pooling2d_10[0][0]           \n",
            "__________________________________________________________________________________________________\n",
            "activation_27 (Activation)      (None, 16, 16, 64)   0           conv2d_30[0][0]                  \n",
            "__________________________________________________________________________________________________\n",
            "max_pooling2d_11 (MaxPooling2D) (None, 8, 8, 64)     0           activation_27[0][0]              \n",
            "__________________________________________________________________________________________________\n",
            "conv2d_31 (Conv2D)              (None, 8, 8, 128)    73856       max_pooling2d_11[0][0]           \n",
            "__________________________________________________________________________________________________\n",
            "activation_28 (Activation)      (None, 8, 8, 128)    0           conv2d_31[0][0]                  \n",
            "__________________________________________________________________________________________________\n",
            "max_pooling2d_12 (MaxPooling2D) (None, 4, 4, 128)    0           activation_28[0][0]              \n",
            "__________________________________________________________________________________________________\n",
            "conv2d_32 (Conv2D)              (None, 4, 4, 128)    147584      max_pooling2d_12[0][0]           \n",
            "__________________________________________________________________________________________________\n",
            "activation_29 (Activation)      (None, 4, 4, 128)    0           conv2d_32[0][0]                  \n",
            "__________________________________________________________________________________________________\n",
            "max_pooling2d_13 (MaxPooling2D) (None, 2, 2, 128)    0           activation_29[0][0]              \n",
            "__________________________________________________________________________________________________\n",
            "conv2d_33 (Conv2D)              (None, 2, 2, 128)    147584      max_pooling2d_13[0][0]           \n",
            "__________________________________________________________________________________________________\n",
            "activation_30 (Activation)      (None, 2, 2, 128)    0           conv2d_33[0][0]                  \n",
            "__________________________________________________________________________________________________\n",
            "max_pooling2d_14 (MaxPooling2D) (None, 1, 1, 128)    0           activation_30[0][0]              \n",
            "__________________________________________________________________________________________________\n",
            "flatten_2 (Flatten)             (None, 128)          0           max_pooling2d_14[0][0]           \n",
            "__________________________________________________________________________________________________\n",
            "dense_8 (Dense)                 (None, 2)            258         flatten_2[0][0]                  \n",
            "__________________________________________________________________________________________________\n",
            "dense_9 (Dense)                 (None, 2)            258         flatten_2[0][0]                  \n",
            "__________________________________________________________________________________________________\n",
            "lambda_2 (Lambda)               (None, 2)            0           dense_8[0][0]                    \n",
            "                                                                 dense_9[0][0]                    \n",
            "__________________________________________________________________________________________________\n",
            "decoder (Sequential)            (None, 28, 28, 3)    388675      lambda_2[0][0]                   \n",
            "==================================================================================================\n",
            "Total params: 777,059\n",
            "Trainable params: 777,059\n",
            "Non-trainable params: 0\n",
            "__________________________________________________________________________________________________\n"
          ],
          "name": "stdout"
        }
      ]
    },
    {
      "cell_type": "code",
      "metadata": {
        "id": "rXKnWqG-s1z8",
        "colab_type": "code",
        "colab": {}
      },
      "source": [
        "                                                                     \n",
        "def vae_loss(y_true, y_pred):\n",
        "        recon_loss = tf.keras.backend.sum(tf.keras.backend.square(y_true-y_pred), axis=[1,2])\n",
        "        kl_loss = - 0.5 * tf.keras.backend.sum(1 + 2*z_log_sigma - tf.keras.backend.square(z_mean) - tf.keras.backend.square(tf.keras.backend.exp(z_log_sigma)), axis=-1)\n",
        "        return recon_loss + kl_loss"
      ],
      "execution_count": 0,
      "outputs": []
    },
    {
      "cell_type": "code",
      "metadata": {
        "id": "m0lZWL_Es57e",
        "colab_type": "code",
        "outputId": "a3455538-d9ca-4e13-89f9-278b0639f83a",
        "colab": {
          "base_uri": "https://localhost:8080/",
          "height": 1000
        }
      },
      "source": [
        "vae.compile(optimizer='adamax', loss='BinaryCrossentropy', metrics=['accuracy'])\n",
        "epochs=50\n",
        "vae.fit(image,image,\n",
        "        epochs=epochs)"
      ],
      "execution_count": 81,
      "outputs": [
        {
          "output_type": "stream",
          "text": [
            "Epoch 1/50\n",
            "603/603 [==============================] - 4s 6ms/step - loss: 0.1813 - accuracy: 0.4158\n",
            "Epoch 2/50\n",
            "603/603 [==============================] - 4s 6ms/step - loss: 0.1803 - accuracy: 0.4092\n",
            "Epoch 3/50\n",
            "603/603 [==============================] - 4s 6ms/step - loss: 0.1799 - accuracy: 0.4059\n",
            "Epoch 4/50\n",
            "603/603 [==============================] - 4s 6ms/step - loss: 0.1796 - accuracy: 0.4044\n",
            "Epoch 5/50\n",
            "603/603 [==============================] - 4s 6ms/step - loss: 0.1793 - accuracy: 0.4043\n",
            "Epoch 6/50\n",
            "603/603 [==============================] - 4s 6ms/step - loss: 0.1791 - accuracy: 0.4041\n",
            "Epoch 7/50\n",
            "603/603 [==============================] - 4s 6ms/step - loss: 0.1789 - accuracy: 0.4029\n",
            "Epoch 8/50\n",
            "603/603 [==============================] - 4s 6ms/step - loss: 0.1787 - accuracy: 0.4025\n",
            "Epoch 9/50\n",
            "603/603 [==============================] - 4s 6ms/step - loss: 0.1786 - accuracy: 0.4060\n",
            "Epoch 10/50\n",
            "603/603 [==============================] - 4s 6ms/step - loss: 0.1785 - accuracy: 0.4035\n",
            "Epoch 11/50\n",
            "603/603 [==============================] - 4s 6ms/step - loss: 0.1784 - accuracy: 0.4075\n",
            "Epoch 12/50\n",
            "603/603 [==============================] - 4s 6ms/step - loss: 0.1782 - accuracy: 0.4109\n",
            "Epoch 13/50\n",
            "603/603 [==============================] - 4s 6ms/step - loss: 0.1782 - accuracy: 0.4094\n",
            "Epoch 14/50\n",
            "603/603 [==============================] - 4s 6ms/step - loss: 0.1781 - accuracy: 0.4137\n",
            "Epoch 15/50\n",
            "603/603 [==============================] - 4s 6ms/step - loss: 0.1779 - accuracy: 0.4084\n",
            "Epoch 16/50\n",
            "603/603 [==============================] - 4s 6ms/step - loss: 0.1778 - accuracy: 0.4082\n",
            "Epoch 17/50\n",
            "603/603 [==============================] - 4s 6ms/step - loss: 0.1777 - accuracy: 0.4086\n",
            "Epoch 18/50\n",
            "603/603 [==============================] - 4s 6ms/step - loss: 0.1776 - accuracy: 0.4084\n",
            "Epoch 19/50\n",
            "603/603 [==============================] - 4s 6ms/step - loss: 0.1776 - accuracy: 0.4048\n",
            "Epoch 20/50\n",
            "603/603 [==============================] - 4s 6ms/step - loss: 0.1775 - accuracy: 0.4052\n",
            "Epoch 21/50\n",
            "603/603 [==============================] - 4s 6ms/step - loss: 0.1774 - accuracy: 0.4087\n",
            "Epoch 22/50\n",
            "603/603 [==============================] - 4s 6ms/step - loss: 0.1775 - accuracy: 0.4102\n",
            "Epoch 23/50\n",
            "603/603 [==============================] - 4s 6ms/step - loss: 0.1773 - accuracy: 0.4082\n",
            "Epoch 24/50\n",
            "603/603 [==============================] - 4s 6ms/step - loss: 0.1773 - accuracy: 0.4101\n",
            "Epoch 25/50\n",
            "603/603 [==============================] - 4s 6ms/step - loss: 0.1772 - accuracy: 0.4091\n",
            "Epoch 26/50\n",
            "603/603 [==============================] - 4s 6ms/step - loss: 0.1774 - accuracy: 0.4057\n",
            "Epoch 27/50\n",
            "603/603 [==============================] - 4s 6ms/step - loss: 0.1771 - accuracy: 0.4082\n",
            "Epoch 28/50\n",
            "603/603 [==============================] - 4s 6ms/step - loss: 0.1769 - accuracy: 0.4104\n",
            "Epoch 29/50\n",
            "603/603 [==============================] - 4s 6ms/step - loss: 0.1768 - accuracy: 0.4154\n",
            "Epoch 30/50\n",
            "603/603 [==============================] - 4s 6ms/step - loss: 0.1767 - accuracy: 0.4157\n",
            "Epoch 31/50\n",
            "603/603 [==============================] - 4s 6ms/step - loss: 0.1767 - accuracy: 0.4166\n",
            "Epoch 32/50\n",
            "603/603 [==============================] - 4s 6ms/step - loss: 0.1767 - accuracy: 0.4160\n",
            "Epoch 33/50\n",
            "603/603 [==============================] - 4s 6ms/step - loss: 0.1766 - accuracy: 0.4179\n",
            "Epoch 34/50\n",
            "603/603 [==============================] - 4s 6ms/step - loss: 0.1766 - accuracy: 0.4164\n",
            "Epoch 35/50\n",
            "603/603 [==============================] - 4s 6ms/step - loss: 0.1764 - accuracy: 0.4162\n",
            "Epoch 36/50\n",
            "603/603 [==============================] - 4s 6ms/step - loss: 0.1764 - accuracy: 0.4119\n",
            "Epoch 37/50\n",
            "603/603 [==============================] - 4s 6ms/step - loss: 0.1763 - accuracy: 0.4142\n",
            "Epoch 38/50\n",
            "603/603 [==============================] - 4s 6ms/step - loss: 0.1763 - accuracy: 0.4139\n",
            "Epoch 39/50\n",
            "603/603 [==============================] - 4s 6ms/step - loss: 0.1761 - accuracy: 0.4160\n",
            "Epoch 40/50\n",
            "603/603 [==============================] - 4s 6ms/step - loss: 0.1762 - accuracy: 0.4176\n",
            "Epoch 41/50\n",
            "603/603 [==============================] - 4s 6ms/step - loss: 0.1761 - accuracy: 0.4155\n",
            "Epoch 42/50\n",
            "603/603 [==============================] - 4s 6ms/step - loss: 0.1761 - accuracy: 0.4146\n",
            "Epoch 43/50\n",
            "603/603 [==============================] - 4s 6ms/step - loss: 0.1761 - accuracy: 0.4150\n",
            "Epoch 44/50\n",
            "603/603 [==============================] - 4s 6ms/step - loss: 0.1762 - accuracy: 0.4149\n",
            "Epoch 45/50\n",
            "603/603 [==============================] - 4s 6ms/step - loss: 0.1759 - accuracy: 0.4106\n",
            "Epoch 46/50\n",
            "603/603 [==============================] - 4s 6ms/step - loss: 0.1758 - accuracy: 0.4107\n",
            "Epoch 47/50\n",
            "603/603 [==============================] - 4s 6ms/step - loss: 0.1757 - accuracy: 0.4124\n",
            "Epoch 48/50\n",
            "603/603 [==============================] - 4s 6ms/step - loss: 0.1757 - accuracy: 0.4101\n",
            "Epoch 49/50\n",
            "603/603 [==============================] - 4s 6ms/step - loss: 0.1757 - accuracy: 0.4102\n",
            "Epoch 50/50\n",
            "603/603 [==============================] - 4s 6ms/step - loss: 0.1757 - accuracy: 0.4122\n"
          ],
          "name": "stdout"
        },
        {
          "output_type": "execute_result",
          "data": {
            "text/plain": [
              "<tensorflow.python.keras.callbacks.History at 0x7f8a68236080>"
            ]
          },
          "metadata": {
            "tags": []
          },
          "execution_count": 81
        }
      ]
    },
    {
      "cell_type": "code",
      "metadata": {
        "id": "9eLs5AeWxmoV",
        "colab_type": "code",
        "outputId": "7b046858-4fd6-4a80-fdc3-66660794487b",
        "colab": {
          "base_uri": "https://localhost:8080/",
          "height": 1000
        }
      },
      "source": [
        "import numpy as np\n",
        "import random\n",
        "t=0\n",
        "while t<5:\n",
        "\n",
        "  i = random.choice(np.arange(19280))\n",
        "  print(\"\\n\\nORIGINAL-->\\n\")\n",
        "  plt.imshow(image[i])\n",
        "  plt.show()\n",
        "  print(\"\\nGENERATED-->\\n\")\n",
        "  pred = (vae.predict(image)[i])\n",
        "  plt.imshow(pred.reshape((28,28,3)))\n",
        "  plt.show()\n",
        "  t+=1 "
      ],
      "execution_count": 90,
      "outputs": [
        {
          "output_type": "stream",
          "text": [
            "\n",
            "\n",
            "ORIGINAL-->\n",
            "\n"
          ],
          "name": "stdout"
        },
        {
          "output_type": "display_data",
          "data": {
            "image/png": "[encoded data removed]",
            "text/plain": [
              "<Figure size 432x288 with 1 Axes>"
            ]
          },
          "metadata": {
            "tags": [],
            "needs_background": "light"
          }
        },
        {
          "output_type": "stream",
          "text": [
            "\n",
            "GENERATED-->\n",
            "\n"
          ],
          "name": "stdout"
        },
        {
          "output_type": "display_data",
          "data": {
            "image/png": "[encoded data removed]",
            "text/plain": [
              "<Figure size 432x288 with 1 Axes>"
            ]
          },
          "metadata": {
            "tags": [],
            "needs_background": "light"
          }
        },
        {
          "output_type": "stream",
          "text": [
            "\n",
            "\n",
            "ORIGINAL-->\n",
            "\n"
          ],
          "name": "stdout"
        },
        {
          "output_type": "display_data",
          "data": {
            "image/png": "[encoded data removed]",
            "text/plain": [
              "<Figure size 432x288 with 1 Axes>"
            ]
          },
          "metadata": {
            "tags": [],
            "needs_background": "light"
          }
        },
        {
          "output_type": "stream",
          "text": [
            "\n",
            "GENERATED-->\n",
            "\n"
          ],
          "name": "stdout"
        },
        {
          "output_type": "display_data",
          "data": {
            "image/png": "[encoded data removed]",
            "text/plain": [
              "<Figure size 432x288 with 1 Axes>"
            ]
          },
          "metadata": {
            "tags": [],
            "needs_background": "light"
          }
        },
        {
          "output_type": "stream",
          "text": [
            "\n",
            "\n",
            "ORIGINAL-->\n",
            "\n"
          ],
          "name": "stdout"
        },
        {
          "output_type": "display_data",
          "data": {
            "image/png": "[encoded data removed]",
            "text/plain": [
              "<Figure size 432x288 with 1 Axes>"
            ]
          },
          "metadata": {
            "tags": [],
            "needs_background": "light"
          }
        },
        {
          "output_type": "stream",
          "text": [
            "\n",
            "GENERATED-->\n",
            "\n"
          ],
          "name": "stdout"
        },
        {
          "output_type": "display_data",
          "data": {
            "image/png": "[encoded data removed]",
            "text/plain": [
              "<Figure size 432x288 with 1 Axes>"
            ]
          },
          "metadata": {
            "tags": [],
            "needs_background": "light"
          }
        },
        {
          "output_type": "stream",
          "text": [
            "\n",
            "\n",
            "ORIGINAL-->\n",
            "\n"
          ],
          "name": "stdout"
        },
        {
          "output_type": "display_data",
          "data": {
            "image/png": "[encoded data removed]",
            "text/plain": [
              "<Figure size 432x288 with 1 Axes>"
            ]
          },
          "metadata": {
            "tags": [],
            "needs_background": "light"
          }
        },
        {
          "output_type": "stream",
          "text": [
            "\n",
            "GENERATED-->\n",
            "\n"
          ],
          "name": "stdout"
        },
        {
          "output_type": "display_data",
          "data": {
            "image/png": "[encoded data removed]",
            "text/plain": [
              "<Figure size 432x288 with 1 Axes>"
            ]
          },
          "metadata": {
            "tags": [],
            "needs_background": "light"
          }
        },
        {
          "output_type": "stream",
          "text": [
            "\n",
            "\n",
            "ORIGINAL-->\n",
            "\n"
          ],
          "name": "stdout"
        },
        {
          "output_type": "display_data",
          "data": {
            "image/png": "[encoded data removed]",
            "text/plain": [
              "<Figure size 432x288 with 1 Axes>"
            ]
          },
          "metadata": {
            "tags": [],
            "needs_background": "light"
          }
        },
        {
          "output_type": "stream",
          "text": [
            "\n",
            "GENERATED-->\n",
            "\n"
          ],
          "name": "stdout"
        },
        {
          "output_type": "display_data",
          "data": {
            "image/png": "[encoded data removed]",
            "text/plain": [
              "<Figure size 432x288 with 1 Axes>"
            ]
          },
          "metadata": {
            "tags": [],
            "needs_background": "light"
          }
        }
      ]
    }
  ]
}