{
  "nbformat": 4,
  "nbformat_minor": 0,
  "metadata": {
    "colab": {
      "name": "OMNIGLOT VAE3_2.ipynb",
      "provenance": [],
      "collapsed_sections": [],
      "authorship_tag": "ABX9TyPw8hFdRs7qWe/YXHb2fp2f",
      "include_colab_link": true
    },
    "kernelspec": {
      "name": "python3",
      "display_name": "Python 3"
    },
    "accelerator": "GPU"
  },
  "cells": [
    {
      "cell_type": "markdown",
      "metadata": {
        "id": "view-in-github",
        "colab_type": "text"
      },
      "source": [
        "<a href=\"https://colab.research.google.com/github/anmol-pabla/VAE-Omniglot/blob/master/OMNIGLOT_VAE3_2.ipynb\" target=\"_parent\"><img src=\"https://colab.research.google.com/assets/colab-badge.svg\" alt=\"Open In Colab\"/></a>"
      ]
    },
    {
      "cell_type": "code",
      "metadata": {
        "id": "ggmF0CLDsfwk",
        "colab_type": "code",
        "outputId": "5877ed73-982a-4a4e-a649-af7369754e9a",
        "colab": {
          "base_uri": "https://localhost:8080/",
          "height": 35
        }
      },
      "source": [
        "import tensorflow.compat.v2 as tf\n",
        "import tensorflow_datasets as tfds\n",
        "from keras import backend as K\n",
        "import matplotlib.pyplot as plt\n"
      ],
      "execution_count": 0,
      "outputs": [
        {
          "output_type": "stream",
          "text": [
            "Using TensorFlow backend.\n"
          ],
          "name": "stderr"
        }
      ]
    },
    {
      "cell_type": "code",
      "metadata": {
        "id": "6jcA--PZlTlb",
        "colab_type": "code",
        "colab": {}
      },
      "source": [
        "\n",
        "tfds.disable_progress_bar()\n",
        "tf.enable_v2_behavior()\n",
        "ds_train = tfds.load(\n",
        "    'omniglot',\n",
        "    split='train',\n",
        "    shuffle_files=True,\n",
        "    with_info=False,\n",
        ")\n",
        "def normalize_img(image, label):\n",
        "  image = tf.image.resize(image, [28,28]) \n",
        "  return tf.cast(image, tf.float32) / 255., label\n",
        "# ds_train = ds_train.map(\n",
        "#     normalize_img, num_parallel_calls=tf.data.experimental.AUTOTUNE)\n",
        "ds_train = ds_train.cache()\n",
        "ds_train = ds_train.batch(128)\n",
        "ds_train = ds_train.prefetch(tf.data.experimental.AUTOTUNE)\n"
      ],
      "execution_count": 0,
      "outputs": []
    },
    {
      "cell_type": "code",
      "metadata": {
        "id": "uIk67Qf9smQQ",
        "colab_type": "code",
        "colab": {}
      },
      "source": [
        "for example in ds_train.take(1600):\n",
        "  image, label = example[\"image\"], example[\"label\"]\n",
        "image,label = normalize_img(image,label)\n",
        "\n",
        "# (x_train, y_train), (x_test, y_test) = mnist.load_data()\n",
        "\n",
        "# image_size = x_train.shape[1]\n",
        "# original_dim = image_size * image_size\n",
        "# x_train = x_train/ 255.0\n",
        "# x_test = x_test / 255.0\n",
        "# latent_size = 2"
      ],
      "execution_count": 0,
      "outputs": []
    },
    {
      "cell_type": "code",
      "metadata": {
        "id": "3PaG7dkGsoSp",
        "colab_type": "code",
        "colab": {}
      },
      "source": [
        "    original_dim = 784\n",
        "    latent_size = 2\n",
        "    def sampling(args):\n",
        "        z_mean, z_log_sigma = args\n",
        "        epsilon = K.random_normal(shape=K.shape(z_mean),\n",
        "                                  mean=0., stddev=1)\n",
        "        return z_mean + K.exp(z_log_sigma) * epsilon"
      ],
      "execution_count": 0,
      "outputs": []
    },
    {
      "cell_type": "code",
      "metadata": {
        "id": "uH7r4t74sqa5",
        "colab_type": "code",
        "outputId": "b1294f40-2efc-447d-d949-c694956d318b",
        "colab": {
          "base_uri": "https://localhost:8080/",
          "height": 884
        }
      },
      "source": [
        "    inputs = tf.keras.Input((28,28,3))\n",
        "    x = tf.keras.layers.Conv2D(1, kernel_size=3, padding='same')(inputs)\n",
        "    x = tf.keras.layers.Reshape((28,28,1))(x)\n",
        "    x = tf.keras.layers.ZeroPadding2D(padding=2)(x)\n",
        "    for n in [32,64,128,128,128]:\n",
        "        x = tf.keras.layers.Conv2D(n, kernel_size=3, padding='same')(x)\n",
        "        x = tf.keras.layers.Activation('relu')(x)\n",
        "        x = tf.keras.layers.MaxPooling2D(pool_size=2)(x)\n",
        "    x = tf.keras.layers.Flatten()(x)\n",
        "    z_mean = tf.keras.layers.Dense(latent_size)(x)\n",
        "    z_log_sigma = tf.keras.layers.Dense(latent_size)(x)\n",
        "    # epsilon = tf.keras.backend.random_normal(shape=tf.keras.backend.shape(z_mean), mean=0., stddev=1)\n",
        "    # z = z_mean + tf.keras.backend.exp(z_log_sigma) * epsilon\n",
        "    z = tf.keras.layers.Lambda(sampling, output_shape=(latent_size,))([z_mean, z_log_sigma])\n",
        "    \n",
        "    encoder = tf.keras.Model(inputs, z_mean,name='encoder')\n",
        "    encoder.summary()\n"
      ],
      "execution_count": 0,
      "outputs": [
        {
          "output_type": "stream",
          "text": [
            "Model: \"encoder\"\n",
            "_________________________________________________________________\n",
            "Layer (type)                 Output Shape              Param #   \n",
            "=================================================================\n",
            "input_1 (InputLayer)         [(None, 28, 28, 3)]       0         \n",
            "_________________________________________________________________\n",
            "conv2d (Conv2D)              (None, 28, 28, 1)         28        \n",
            "_________________________________________________________________\n",
            "reshape (Reshape)            (None, 28, 28, 1)         0         \n",
            "_________________________________________________________________\n",
            "zero_padding2d (ZeroPadding2 (None, 32, 32, 1)         0         \n",
            "_________________________________________________________________\n",
            "conv2d_1 (Conv2D)            (None, 32, 32, 32)        320       \n",
            "_________________________________________________________________\n",
            "activation (Activation)      (None, 32, 32, 32)        0         \n",
            "_________________________________________________________________\n",
            "max_pooling2d (MaxPooling2D) (None, 16, 16, 32)        0         \n",
            "_________________________________________________________________\n",
            "conv2d_2 (Conv2D)            (None, 16, 16, 64)        18496     \n",
            "_________________________________________________________________\n",
            "activation_1 (Activation)    (None, 16, 16, 64)        0         \n",
            "_________________________________________________________________\n",
            "max_pooling2d_1 (MaxPooling2 (None, 8, 8, 64)          0         \n",
            "_________________________________________________________________\n",
            "conv2d_3 (Conv2D)            (None, 8, 8, 128)         73856     \n",
            "_________________________________________________________________\n",
            "activation_2 (Activation)    (None, 8, 8, 128)         0         \n",
            "_________________________________________________________________\n",
            "max_pooling2d_2 (MaxPooling2 (None, 4, 4, 128)         0         \n",
            "_________________________________________________________________\n",
            "conv2d_4 (Conv2D)            (None, 4, 4, 128)         147584    \n",
            "_________________________________________________________________\n",
            "activation_3 (Activation)    (None, 4, 4, 128)         0         \n",
            "_________________________________________________________________\n",
            "max_pooling2d_3 (MaxPooling2 (None, 2, 2, 128)         0         \n",
            "_________________________________________________________________\n",
            "conv2d_5 (Conv2D)            (None, 2, 2, 128)         147584    \n",
            "_________________________________________________________________\n",
            "activation_4 (Activation)    (None, 2, 2, 128)         0         \n",
            "_________________________________________________________________\n",
            "max_pooling2d_4 (MaxPooling2 (None, 1, 1, 128)         0         \n",
            "_________________________________________________________________\n",
            "flatten (Flatten)            (None, 128)               0         \n",
            "_________________________________________________________________\n",
            "dense (Dense)                (None, 2)                 258       \n",
            "=================================================================\n",
            "Total params: 388,126\n",
            "Trainable params: 388,126\n",
            "Non-trainable params: 0\n",
            "_________________________________________________________________\n"
          ],
          "name": "stdout"
        }
      ]
    },
    {
      "cell_type": "code",
      "metadata": {
        "id": "NONiLdrdssx_",
        "colab_type": "code",
        "outputId": "80df3b59-2158-43d8-fed5-03b0f60b82e2",
        "colab": {
          "base_uri": "https://localhost:8080/",
          "height": 815
        }
      },
      "source": [
        "    decoder = tf.keras.Sequential(name='decoder')\n",
        "    decoder.add(tf.keras.layers.InputLayer((latent_size,)))\n",
        "    decoder.add(tf.keras.layers.Dense(128))\n",
        "    decoder.add(tf.keras.layers.Reshape((1,1,128)))\n",
        "    \n",
        "    decoder.add(tf.keras.layers.UpSampling2D(size=2))\n",
        "    decoder.add(tf.keras.layers.Conv2D(128, kernel_size=3, padding='same'))\n",
        "    decoder.add(tf.keras.layers.Activation('relu'))\n",
        "      \n",
        "    decoder.add(tf.keras.layers.UpSampling2D(size=2))\n",
        "    decoder.add(tf.keras.layers.Conv2D(128, kernel_size=3, padding='same'))\n",
        "    decoder.add(tf.keras.layers.Activation('relu'))\n",
        "    \n",
        "    decoder.add(tf.keras.layers.UpSampling2D(size=2))\n",
        "    decoder.add(tf.keras.layers.Conv2D(64, kernel_size=3, padding='same'))\n",
        "    decoder.add(tf.keras.layers.Activation('relu'))\n",
        "        \n",
        "    decoder.add(tf.keras.layers.UpSampling2D(size=2))\n",
        "    decoder.add(tf.keras.layers.Conv2D(32, kernel_size=3, padding='same'))\n",
        "    decoder.add(tf.keras.layers.Activation('relu'))\n",
        "    \n",
        "    decoder.add(tf.keras.layers.UpSampling2D(size=2))\n",
        "    decoder.add(tf.keras.layers.Conv2D(3, kernel_size=3, padding='same'))\n",
        "    decoder.add(tf.keras.layers.Activation('sigmoid'))\n",
        "    #decoder.add(tf.keras.layers.Flatten())\n",
        "    #decoder.add(tf.keras.layers.Dense(1))\n",
        "\n",
        "    decoder.add(tf.keras.layers.Cropping2D(cropping=2))\n",
        "    decoder.add(tf.keras.layers.Reshape((28,28,3)))\n",
        "    decoder.summary()"
      ],
      "execution_count": 0,
      "outputs": [
        {
          "output_type": "stream",
          "text": [
            "Model: \"decoder\"\n",
            "_________________________________________________________________\n",
            "Layer (type)                 Output Shape              Param #   \n",
            "=================================================================\n",
            "dense_2 (Dense)              (None, 128)               384       \n",
            "_________________________________________________________________\n",
            "reshape_1 (Reshape)          (None, 1, 1, 128)         0         \n",
            "_________________________________________________________________\n",
            "up_sampling2d (UpSampling2D) (None, 2, 2, 128)         0         \n",
            "_________________________________________________________________\n",
            "conv2d_6 (Conv2D)            (None, 2, 2, 128)         147584    \n",
            "_________________________________________________________________\n",
            "activation_5 (Activation)    (None, 2, 2, 128)         0         \n",
            "_________________________________________________________________\n",
            "up_sampling2d_1 (UpSampling2 (None, 4, 4, 128)         0         \n",
            "_________________________________________________________________\n",
            "conv2d_7 (Conv2D)            (None, 4, 4, 128)         147584    \n",
            "_________________________________________________________________\n",
            "activation_6 (Activation)    (None, 4, 4, 128)         0         \n",
            "_________________________________________________________________\n",
            "up_sampling2d_2 (UpSampling2 (None, 8, 8, 128)         0         \n",
            "_________________________________________________________________\n",
            "conv2d_8 (Conv2D)            (None, 8, 8, 64)          73792     \n",
            "_________________________________________________________________\n",
            "activation_7 (Activation)    (None, 8, 8, 64)          0         \n",
            "_________________________________________________________________\n",
            "up_sampling2d_3 (UpSampling2 (None, 16, 16, 64)        0         \n",
            "_________________________________________________________________\n",
            "conv2d_9 (Conv2D)            (None, 16, 16, 32)        18464     \n",
            "_________________________________________________________________\n",
            "activation_8 (Activation)    (None, 16, 16, 32)        0         \n",
            "_________________________________________________________________\n",
            "up_sampling2d_4 (UpSampling2 (None, 32, 32, 32)        0         \n",
            "_________________________________________________________________\n",
            "conv2d_10 (Conv2D)           (None, 32, 32, 3)         867       \n",
            "_________________________________________________________________\n",
            "activation_9 (Activation)    (None, 32, 32, 3)         0         \n",
            "_________________________________________________________________\n",
            "cropping2d (Cropping2D)      (None, 28, 28, 3)         0         \n",
            "_________________________________________________________________\n",
            "reshape_2 (Reshape)          (None, 28, 28, 3)         0         \n",
            "=================================================================\n",
            "Total params: 388,675\n",
            "Trainable params: 388,675\n",
            "Non-trainable params: 0\n",
            "_________________________________________________________________\n"
          ],
          "name": "stdout"
        }
      ]
    },
    {
      "cell_type": "code",
      "metadata": {
        "id": "6em3AkDhsy_L",
        "colab_type": "code",
        "outputId": "5bd55c19-c95b-4197-983e-21870e00fb31",
        "colab": {
          "base_uri": "https://localhost:8080/",
          "height": 1000
        }
      },
      "source": [
        "    outputs = decoder(z)\n",
        "    vae = tf.keras.Model(inputs, outputs,name='vae')\n",
        "    vae.summary()"
      ],
      "execution_count": 0,
      "outputs": [
        {
          "output_type": "stream",
          "text": [
            "Model: \"vae\"\n",
            "__________________________________________________________________________________________________\n",
            "Layer (type)                    Output Shape         Param #     Connected to                     \n",
            "==================================================================================================\n",
            "input_1 (InputLayer)            [(None, 28, 28, 3)]  0                                            \n",
            "__________________________________________________________________________________________________\n",
            "conv2d (Conv2D)                 (None, 28, 28, 1)    28          input_1[0][0]                    \n",
            "__________________________________________________________________________________________________\n",
            "reshape (Reshape)               (None, 28, 28, 1)    0           conv2d[0][0]                     \n",
            "__________________________________________________________________________________________________\n",
            "zero_padding2d (ZeroPadding2D)  (None, 32, 32, 1)    0           reshape[0][0]                    \n",
            "__________________________________________________________________________________________________\n",
            "conv2d_1 (Conv2D)               (None, 32, 32, 32)   320         zero_padding2d[0][0]             \n",
            "__________________________________________________________________________________________________\n",
            "activation (Activation)         (None, 32, 32, 32)   0           conv2d_1[0][0]                   \n",
            "__________________________________________________________________________________________________\n",
            "max_pooling2d (MaxPooling2D)    (None, 16, 16, 32)   0           activation[0][0]                 \n",
            "__________________________________________________________________________________________________\n",
            "conv2d_2 (Conv2D)               (None, 16, 16, 64)   18496       max_pooling2d[0][0]              \n",
            "__________________________________________________________________________________________________\n",
            "activation_1 (Activation)       (None, 16, 16, 64)   0           conv2d_2[0][0]                   \n",
            "__________________________________________________________________________________________________\n",
            "max_pooling2d_1 (MaxPooling2D)  (None, 8, 8, 64)     0           activation_1[0][0]               \n",
            "__________________________________________________________________________________________________\n",
            "conv2d_3 (Conv2D)               (None, 8, 8, 128)    73856       max_pooling2d_1[0][0]            \n",
            "__________________________________________________________________________________________________\n",
            "activation_2 (Activation)       (None, 8, 8, 128)    0           conv2d_3[0][0]                   \n",
            "__________________________________________________________________________________________________\n",
            "max_pooling2d_2 (MaxPooling2D)  (None, 4, 4, 128)    0           activation_2[0][0]               \n",
            "__________________________________________________________________________________________________\n",
            "conv2d_4 (Conv2D)               (None, 4, 4, 128)    147584      max_pooling2d_2[0][0]            \n",
            "__________________________________________________________________________________________________\n",
            "activation_3 (Activation)       (None, 4, 4, 128)    0           conv2d_4[0][0]                   \n",
            "__________________________________________________________________________________________________\n",
            "max_pooling2d_3 (MaxPooling2D)  (None, 2, 2, 128)    0           activation_3[0][0]               \n",
            "__________________________________________________________________________________________________\n",
            "conv2d_5 (Conv2D)               (None, 2, 2, 128)    147584      max_pooling2d_3[0][0]            \n",
            "__________________________________________________________________________________________________\n",
            "activation_4 (Activation)       (None, 2, 2, 128)    0           conv2d_5[0][0]                   \n",
            "__________________________________________________________________________________________________\n",
            "max_pooling2d_4 (MaxPooling2D)  (None, 1, 1, 128)    0           activation_4[0][0]               \n",
            "__________________________________________________________________________________________________\n",
            "flatten (Flatten)               (None, 128)          0           max_pooling2d_4[0][0]            \n",
            "__________________________________________________________________________________________________\n",
            "dense (Dense)                   (None, 2)            258         flatten[0][0]                    \n",
            "__________________________________________________________________________________________________\n",
            "dense_1 (Dense)                 (None, 2)            258         flatten[0][0]                    \n",
            "__________________________________________________________________________________________________\n",
            "lambda (Lambda)                 (None, 2)            0           dense[0][0]                      \n",
            "                                                                 dense_1[0][0]                    \n",
            "__________________________________________________________________________________________________\n",
            "decoder (Sequential)            (None, 28, 28, 3)    388675      lambda[0][0]                     \n",
            "==================================================================================================\n",
            "Total params: 777,059\n",
            "Trainable params: 777,059\n",
            "Non-trainable params: 0\n",
            "__________________________________________________________________________________________________\n"
          ],
          "name": "stdout"
        }
      ]
    },
    {
      "cell_type": "code",
      "metadata": {
        "id": "rXKnWqG-s1z8",
        "colab_type": "code",
        "colab": {}
      },
      "source": [
        "                                                                     \n",
        "def vae_loss(y_true, y_pred):\n",
        "        recon_loss = tf.keras.backend.sum(tf.keras.backend.square(y_true-y_pred), axis=[1,2])\n",
        "        kl_loss = - 0.5 * tf.keras.backend.sum(1 + 2*z_log_sigma - tf.keras.backend.square(z_mean) - tf.keras.backend.square(tf.keras.backend.exp(z_log_sigma)), axis=-1)\n",
        "        return recon_loss + kl_loss"
      ],
      "execution_count": 0,
      "outputs": []
    },
    {
      "cell_type": "code",
      "metadata": {
        "id": "m0lZWL_Es57e",
        "colab_type": "code",
        "outputId": "66bd63e4-ae06-46f4-b251-f16a9405cb55",
        "colab": {
          "base_uri": "https://localhost:8080/",
          "height": 208
        }
      },
      "source": [
        "tf.keras.optimizers.Adagrad(learning_rate=0.002)\n",
        "vae.compile(optimizer='Adagrad', loss='BinaryCrossentropy', metrics=['accuracy'])\n",
        "epochs=5\n",
        "vae.fit(image,image,\n",
        "        epochs=epochs)\n",
        "\n"
      ],
      "execution_count": 0,
      "outputs": [
        {
          "output_type": "stream",
          "text": [
            "Epoch 1/5\n",
            "3/3 [==============================] - 0s 13ms/step - loss: 86.4688 - accuracy: 0.5537\n",
            "Epoch 2/5\n",
            "3/3 [==============================] - 0s 12ms/step - loss: 47.6297 - accuracy: 0.3824\n",
            "Epoch 3/5\n",
            "3/3 [==============================] - 0s 12ms/step - loss: 46.0017 - accuracy: 0.4097\n",
            "Epoch 4/5\n",
            "3/3 [==============================] - 0s 12ms/step - loss: 44.7858 - accuracy: 0.3999\n",
            "Epoch 5/5\n",
            "3/3 [==============================] - 0s 11ms/step - loss: 44.8229 - accuracy: 0.4363\n"
          ],
          "name": "stdout"
        },
        {
          "output_type": "execute_result",
          "data": {
            "text/plain": [
              "<tensorflow.python.keras.callbacks.History at 0x7fbaa8f1a7f0>"
            ]
          },
          "metadata": {
            "tags": []
          },
          "execution_count": 43
        }
      ]
    },
    {
      "cell_type": "code",
      "metadata": {
        "id": "9eLs5AeWxmoV",
        "colab_type": "code",
        "outputId": "71c519e2-d9ad-48a7-f34b-853f660b0699",
        "colab": {
          "base_uri": "https://localhost:8080/",
          "height": 1000
        }
      },
      "source": [
        "import numpy as np\n",
        "import random\n",
        "t=0\n",
        "while t<5:\n",
        "\n",
        "  i = random.choice(np.arange(80))\n",
        "  print(\"\\n\\nORIGINAL-->\\n\")\n",
        "  plt.imshow(image[i])\n",
        "  plt.show()\n",
        "  print(\"\\nGENERATED-->\\n\")\n",
        "  pred = (vae.predict(image)[i])\n",
        "  plt.imshow(pred.reshape((28,28,3)))\n",
        "  plt.show()\n",
        "  t+=1 "
      ],
      "execution_count": 0,
      "outputs": [
        {
          "output_type": "stream",
          "text": [
            "\n",
            "\n",
            "ORIGINAL-->\n",
            "\n"
          ],
          "name": "stdout"
        },
        {
          "output_type": "display_data",
          "data": {
            "image/png": "[encoded data removed]",
            "text/plain": [
              "<Figure size 432x288 with 1 Axes>"
            ]
          },
          "metadata": {
            "tags": [],
            "needs_background": "light"
          }
        },
        {
          "output_type": "stream",
          "text": [
            "\n",
            "GENERATED-->\n",
            "\n"
          ],
          "name": "stdout"
        },
        {
          "output_type": "display_data",
          "data": {
            "image/png": "[encoded data removed]",
            "text/plain": [
              "<Figure size 432x288 with 1 Axes>"
            ]
          },
          "metadata": {
            "tags": [],
            "needs_background": "light"
          }
        },
        {
          "output_type": "stream",
          "text": [
            "\n",
            "\n",
            "ORIGINAL-->\n",
            "\n"
          ],
          "name": "stdout"
        },
        {
          "output_type": "display_data",
          "data": {
            "image/png": "[encoded data removed]",
            "text/plain": [
              "<Figure size 432x288 with 1 Axes>"
            ]
          },
          "metadata": {
            "tags": [],
            "needs_background": "light"
          }
        },
        {
          "output_type": "stream",
          "text": [
            "\n",
            "GENERATED-->\n",
            "\n"
          ],
          "name": "stdout"
        },
        {
          "output_type": "display_data",
          "data": {
            "image/png": "[encoded data removed]",
            "text/plain": [
              "<Figure size 432x288 with 1 Axes>"
            ]
          },
          "metadata": {
            "tags": [],
            "needs_background": "light"
          }
        },
        {
          "output_type": "stream",
          "text": [
            "\n",
            "\n",
            "ORIGINAL-->\n",
            "\n"
          ],
          "name": "stdout"
        },
        {
          "output_type": "display_data",
          "data": {
            "image/png": "[encoded data removed]",
            "text/plain": [
              "<Figure size 432x288 with 1 Axes>"
            ]
          },
          "metadata": {
            "tags": [],
            "needs_background": "light"
          }
        },
        {
          "output_type": "stream",
          "text": [
            "\n",
            "GENERATED-->\n",
            "\n"
          ],
          "name": "stdout"
        },
        {
          "output_type": "display_data",
          "data": {
            "image/png": "[encoded data removed]",
            "text/plain": [
              "<Figure size 432x288 with 1 Axes>"
            ]
          },
          "metadata": {
            "tags": [],
            "needs_background": "light"
          }
        },
        {
          "output_type": "stream",
          "text": [
            "\n",
            "\n",
            "ORIGINAL-->\n",
            "\n"
          ],
          "name": "stdout"
        },
        {
          "output_type": "display_data",
          "data": {
            "image/png": "[encoded data removed]",
            "text/plain": [
              "<Figure size 432x288 with 1 Axes>"
            ]
          },
          "metadata": {
            "tags": [],
            "needs_background": "light"
          }
        },
        {
          "output_type": "stream",
          "text": [
            "\n",
            "GENERATED-->\n",
            "\n"
          ],
          "name": "stdout"
        },
        {
          "output_type": "display_data",
          "data": {
            "image/png": "[encoded data removed]",
            "text/plain": [
              "<Figure size 432x288 with 1 Axes>"
            ]
          },
          "metadata": {
            "tags": [],
            "needs_background": "light"
          }
        },
        {
          "output_type": "stream",
          "text": [
            "\n",
            "\n",
            "ORIGINAL-->\n",
            "\n"
          ],
          "name": "stdout"
        },
        {
          "output_type": "display_data",
          "data": {
            "image/png": "[encoded data removed]",
            "text/plain": [
              "<Figure size 432x288 with 1 Axes>"
            ]
          },
          "metadata": {
            "tags": [],
            "needs_background": "light"
          }
        },
        {
          "output_type": "stream",
          "text": [
            "\n",
            "GENERATED-->\n",
            "\n"
          ],
          "name": "stdout"
        },
        {
          "output_type": "display_data",
          "data": {
            "image/png": "[encoded data removed]",
            "text/plain": [
              "<Figure size 432x288 with 1 Axes>"
            ]
          },
          "metadata": {
            "tags": [],
            "needs_background": "light"
          }
        }
      ]
    }
  ]
}
